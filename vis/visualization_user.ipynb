{
 "cells": [
  {
   "cell_type": "code",
   "execution_count": 1,
   "metadata": {},
   "outputs": [],
   "source": [
    "import pandas as pd\n",
    "from collections import defaultdict\n",
    "from scipy.spatial.distance import cosine\n",
    "import networkx as nx\n",
    "from tqdm import tqdm\n",
    "import pickle\n",
    "import gc\n",
    "import random\n",
    "import community as community_louvain\n",
    "import csv\n",
    "import matplotlib.pyplot as plt\n",
    "import numpy as np"
   ]
  },
  {
   "cell_type": "code",
   "execution_count": 2,
   "metadata": {},
   "outputs": [],
   "source": [
    "# 读取数据\n",
    "ratings = pd.read_csv(\n",
    "    'data/ml-25m-reduced/ratings.csv', \n",
    "    names=['userId', 'movieId', 'rating', 'timestamp'],\n",
    "    low_memory=False\n",
    "    )"
   ]
  },
  {
   "cell_type": "code",
   "execution_count": 3,
   "metadata": {},
   "outputs": [
    {
     "name": "stderr",
     "output_type": "stream",
     "text": [
      "Building user-movie sparse matrix: 100%|██████████| 2500010/2500010 [01:01<00:00, 40845.12it/s]\n"
     ]
    }
   ],
   "source": [
    "# 构建用户-电影评分的稀疏矩阵，使用字典来存储\n",
    "user_ratings = defaultdict(dict)\n",
    "for _, row in tqdm(ratings.iterrows(), total=len(ratings), desc=\"Building user-movie sparse matrix\"):\n",
    "    user_ratings[row['userId']][row['movieId']] = row['rating']\n",
    "\n",
    "# 找出所有用户ID\n",
    "all_users = list(user_ratings.keys())"
   ]
  },
  {
   "cell_type": "code",
   "execution_count": 4,
   "metadata": {},
   "outputs": [],
   "source": [
    "# 构建电影到用户的倒排索引\n",
    "movie_to_users = defaultdict(set)\n",
    "for user, movies in user_ratings.items():\n",
    "    for movie in movies:\n",
    "        movie_to_users[movie].add(user)"
   ]
  },
  {
   "cell_type": "code",
   "execution_count": 5,
   "metadata": {},
   "outputs": [],
   "source": [
    "# 找到与某用户可能有相似兴趣的候选用户\n",
    "def get_candidate_users(user):\n",
    "    candidate_users = set()\n",
    "    for movie in user_ratings[user]:\n",
    "        candidate_users.update(movie_to_users[movie])\n",
    "    candidate_users.discard(user)\n",
    "    return candidate_users"
   ]
  },
  {
   "cell_type": "code",
   "execution_count": 13,
   "metadata": {},
   "outputs": [],
   "source": [
    "# 计算用户相似度\n",
    "def calculate_similarity(user1, user2):\n",
    "    ratings1 = user_ratings[user1]\n",
    "    ratings2 = user_ratings[user2]\n",
    "    \n",
    "    # 找到共同评分的电影，如果没有共同评分的电影，则返回相似度为 0\n",
    "    common_movies = set(ratings1.keys()).intersection(set(ratings2.keys()))\n",
    "    if len(common_movies) == 0:\n",
    "        return 0\n",
    "    \n",
    "    # 获取这些共同电影的评分\n",
    "    ratings1_common = [ratings1[movie] for movie in common_movies]\n",
    "    ratings2_common = [ratings2[movie] for movie in common_movies]\n",
    "    ratings1_common = np.array([float(rating) for rating in ratings1_common])\n",
    "    ratings2_common = np.array([float(rating) for rating in ratings2_common])\n",
    "\n",
    "    # 计算余弦相似度\n",
    "    # 注意这个函数的使用方式\n",
    "    similarity = 1 - cosine(ratings1_common, ratings2_common)\n",
    "    \n",
    "    # 计算加权：共同评分电影越多，权重越大\n",
    "    weight = len(common_movies) / (len(common_movies) + 1)\n",
    "    \n",
    "    return similarity * weight"
   ]
  },
  {
   "cell_type": "code",
   "execution_count": 14,
   "metadata": {},
   "outputs": [],
   "source": [
    "# 计算相似度并使用缓存\n",
    "similarity_cache = {}\n",
    "\n",
    "def calculate_similarity_with_cache(user1, user2):\n",
    "    if (user1, user2) in similarity_cache:\n",
    "        return similarity_cache[(user1, user2)]\n",
    "    if (user2, user1) in similarity_cache:\n",
    "        return similarity_cache[(user2, user1)]\n",
    "    \n",
    "    sim = calculate_similarity(user1, user2)\n",
    "    similarity_cache[(user1, user2)] = sim\n",
    "    return sim"
   ]
  },
  {
   "cell_type": "code",
   "execution_count": 26,
   "metadata": {},
   "outputs": [
    {
     "name": "stdout",
     "output_type": "stream",
     "text": [
      "No saved progress found, starting fresh...\n"
     ]
    }
   ],
   "source": [
    "# 随机选取用户\n",
    "users = random.sample(all_users, 100)\n",
    "\n",
    "graph_file = 'vis-data/incremental_user_similarity_graph.pkl'\n",
    "progress_file = 'vis-data/processed_users.pkl'\n",
    "\n",
    "# 加载已经保存的图和进度\n",
    "try:\n",
    "    with open(graph_file, 'rb') as f:\n",
    "        G = pickle.load(f)\n",
    "    with open(progress_file, 'rb') as f:\n",
    "        processed_users = pickle.load(f)\n",
    "    print(\"Resuming from saved progress...\")\n",
    "except FileNotFoundError:\n",
    "    G = nx.Graph()\n",
    "    processed_users = set()\n",
    "    print(\"No saved progress found, starting fresh...\")\n",
    "\n",
    "# 找到尚未处理的用户\n",
    "remaining_users = [user for user in users if user not in processed_users]"
   ]
  },
  {
   "cell_type": "code",
   "execution_count": null,
   "metadata": {},
   "outputs": [
    {
     "name": "stderr",
     "output_type": "stream",
     "text": [
      "Calculating similarities: 100%|██████████| 100/100 [00:45<00:00,  2.19it/s]\n"
     ]
    },
    {
     "name": "stdout",
     "output_type": "stream",
     "text": [
      "Processing complete. Graph saved to vis-data/incremental_user_similarity_graph.pkl, progress saved to vis-data/processed_users.pkl\n"
     ]
    }
   ],
   "source": [
    "# # 处理用户并保存进度，每 batch_size 个用户保存一次\n",
    "# batch_size = 500\n",
    "# batch_counter = 0\n",
    "\n",
    "for i, user1 in tqdm(enumerate(remaining_users), total=len(remaining_users), desc=\"Calculating similarities\"):\n",
    "    candidate_users = get_candidate_users(user1)  # 候选用户\n",
    "    for user2 in candidate_users:\n",
    "        dis = calculate_similarity(user1, user2)\n",
    "        # print(f\"Similarity between {user1} and {user2}: {dis}\")\n",
    "        if dis >= 0.9:  # 阈值\n",
    "            G.add_edge(user1, user2, weight=dis)\n",
    "#     # 记录已处理的用户\n",
    "#     processed_users.add(user1)\n",
    "#     batch_counter += 1\n",
    "\n",
    "#     # 每处理完一批用户后保存进度\n",
    "#     if batch_counter >= batch_size:\n",
    "#         # 保存进度\n",
    "#         with open(graph_file, 'wb') as graph_f, open(progress_file, 'wb') as progress_f:\n",
    "#             pickle.dump(G, graph_f)\n",
    "#             pickle.dump(processed_users, progress_f)\n",
    "        \n",
    "#         # 清除相似度缓存\n",
    "#         similarity_cache.clear()\n",
    "#         gc.collect()  # 手动触发垃圾回收释放内存\n",
    "        \n",
    "#         # print(f\"Saved progress for {len(processed_users)} users. Cache cleared.\")\n",
    "#         batch_counter = 0  # 重置计数器\n",
    "\n",
    "# # 在最后确保保存所有进度\n",
    "# with open(graph_file, 'wb') as graph_f, open(progress_file, 'wb') as progress_f:\n",
    "#     pickle.dump(G, graph_f)\n",
    "#     pickle.dump(processed_users, progress_f)\n",
    "# print(f\"Processing complete. Graph saved to {graph_file}, progress saved to {progress_file}\")"
   ]
  },
  {
   "cell_type": "code",
   "execution_count": 23,
   "metadata": {},
   "outputs": [
    {
     "name": "stdout",
     "output_type": "stream",
     "text": [
      "Graph and progress loaded. Processed 100 users.\n"
     ]
    }
   ],
   "source": [
    "# 设置文件名\n",
    "graph_file = 'vis-data/incremental_user_similarity_graph.pkl'\n",
    "progress_file = 'vis-data/processed_users.pkl'\n",
    "\n",
    "# 加载图和进度\n",
    "with open(graph_file, 'rb') as graph_f, open(progress_file, 'rb') as progress_f:\n",
    "    G = pickle.load(graph_f)\n",
    "    processed_users = pickle.load(progress_f)\n",
    "\n",
    "print(f\"Graph and progress loaded. Processed {len(processed_users)} users.\")"
   ]
  },
  {
   "cell_type": "code",
   "execution_count": 24,
   "metadata": {},
   "outputs": [
    {
     "name": "stdout",
     "output_type": "stream",
     "text": [
      "Performing community detection using Louvain method...\n"
     ]
    }
   ],
   "source": [
    "# 对图进行社区分割\n",
    "print(\"Performing community detection using Louvain method...\")\n",
    "partition = community_louvain.best_partition(G)  # Louvain算法分割社区"
   ]
  },
  {
   "cell_type": "code",
   "execution_count": 25,
   "metadata": {},
   "outputs": [
    {
     "name": "stdout",
     "output_type": "stream",
     "text": [
      "Edges saved to vis-data/graph_with_communities.csv\n",
      "Nodes saved to vis-data/nodes_with_communities.csv\n"
     ]
    }
   ],
   "source": [
    "# 文件路径\n",
    "edges_output_file = 'vis-data/graph_with_communities.csv'\n",
    "nodes_output_file = 'vis-data/nodes_with_communities.csv'\n",
    "\n",
    "# 保存边信息到 graph_with_communities.csv\n",
    "with open(edges_output_file, 'w', newline='', encoding='utf-8') as csvfile:\n",
    "    writer = csv.writer(csvfile)\n",
    "    writer.writerow(['source', 'target', 'type', 'weight'])\n",
    "    \n",
    "    for source, target, data in G.edges(data=True):  # 遍历图中的边\n",
    "        if source in users and target in users:  # 只保存随机选择的用户相关的边\n",
    "            weight = data.get('weight', 1)  # 获取边的权重，默认值为 1\n",
    "            writer.writerow([source, target, 'undirected', weight])  # 假设边为无向边\n",
    "\n",
    "print(f\"Edges saved to {edges_output_file}\")\n",
    "\n",
    "# 保存节点信息到 nodes_with_communities.csv\n",
    "with open(nodes_output_file, 'w', newline='', encoding='utf-8') as csvfile:\n",
    "    writer = csv.writer(csvfile)\n",
    "    writer.writerow(['id', 'label', 'category'])\n",
    "    \n",
    "    for user in users:  # 只保存随机选择的用户\n",
    "        label = user  # label 与 id 相同\n",
    "        category = partition.get(user, -1)  # 获取社区标签作为分类信息\n",
    "        writer.writerow([user, label, category])\n",
    "\n",
    "print(f\"Nodes saved to {nodes_output_file}\")"
   ]
  }
 ],
 "metadata": {
  "kernelspec": {
   "display_name": "dbenv",
   "language": "python",
   "name": "python3"
  },
  "language_info": {
   "codemirror_mode": {
    "name": "ipython",
    "version": 3
   },
   "file_extension": ".py",
   "mimetype": "text/x-python",
   "name": "python",
   "nbconvert_exporter": "python",
   "pygments_lexer": "ipython3",
   "version": "3.9.18"
  }
 },
 "nbformat": 4,
 "nbformat_minor": 2
}
