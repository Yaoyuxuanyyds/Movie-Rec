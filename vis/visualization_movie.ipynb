{
 "cells": [
  {
   "cell_type": "code",
   "execution_count": 10,
   "metadata": {},
   "outputs": [],
   "source": [
    "import pandas as pd\n",
    "from collections import defaultdict\n",
    "from scipy.spatial.distance import cosine\n",
    "import networkx as nx\n",
    "from tqdm import tqdm\n",
    "import random\n",
    "import csv\n",
    "import numpy as np"
   ]
  },
  {
   "cell_type": "code",
   "execution_count": 2,
   "metadata": {},
   "outputs": [],
   "source": [
    "# 读取数据\n",
    "ratings = pd.read_csv(\n",
    "    'data/ml-25m-reduced/ratings.csv', \n",
    "    names=['userId', 'movieId', 'rating', 'timestamp'],\n",
    "    low_memory=False\n",
    "    )"
   ]
  },
  {
   "cell_type": "code",
   "execution_count": 3,
   "metadata": {},
   "outputs": [],
   "source": [
    "movies = pd.read_csv(\n",
    "    'data/ml-25m-reduced/movies.csv', \n",
    "    names=['movieId', 'title', 'genres'],\n",
    "    low_memory=False\n",
    ")"
   ]
  },
  {
   "cell_type": "code",
   "execution_count": 4,
   "metadata": {},
   "outputs": [],
   "source": [
    "# 为每个电影分配类别\n",
    "movie_genres = {row['movieId']: set(row['genres'].split('|')) for _, row in movies.iterrows()}"
   ]
  },
  {
   "cell_type": "code",
   "execution_count": 5,
   "metadata": {},
   "outputs": [
    {
     "name": "stderr",
     "output_type": "stream",
     "text": [
      "Building user-movie sparse matrix: 100%|██████████| 2500010/2500010 [00:59<00:00, 42037.73it/s]\n"
     ]
    }
   ],
   "source": [
    "# 构建用户-电影评分的稀疏矩阵，使用字典来存储\n",
    "user_ratings = defaultdict(dict)\n",
    "for _, row in tqdm(ratings.iterrows(), total=len(ratings), desc=\"Building user-movie sparse matrix\"):\n",
    "    user_ratings[row['userId']][row['movieId']] = row['rating']"
   ]
  },
  {
   "cell_type": "code",
   "execution_count": 6,
   "metadata": {},
   "outputs": [],
   "source": [
    "# 构建电影到用户的倒排索引\n",
    "movie_to_users = defaultdict(set)\n",
    "for user, movies in user_ratings.items():\n",
    "    for movie in movies:\n",
    "        movie_to_users[movie].add(user)"
   ]
  },
  {
   "cell_type": "code",
   "execution_count": 21,
   "metadata": {},
   "outputs": [],
   "source": [
    "# 计算电影相似度\n",
    "def calculate_movie_similarity(movie1, movie2):\n",
    "    # 获取电影的评分信息\n",
    "    users1 = movie_to_users[movie1]\n",
    "    users2 = movie_to_users[movie2]\n",
    "    \n",
    "    # 找到共同评分的用户\n",
    "    common_users = users1.intersection(users2)\n",
    "    if len(common_users) == 0:\n",
    "        return 0\n",
    "    \n",
    "    # 获取共同评分用户的评分\n",
    "    ratings1_common = [user_ratings[user][movie1] for user in common_users]\n",
    "    ratings2_common = [user_ratings[user][movie2] for user in common_users]\n",
    "    \n",
    "    # 确保将评分转换为 numpy 数组并且是浮动类型\n",
    "    ratings1_common = np.array(ratings1_common, dtype=float)\n",
    "    ratings2_common = np.array(ratings2_common, dtype=float)\n",
    "    \n",
    "    # 计算评分的余弦相似度\n",
    "    similarity = 1 - cosine(ratings1_common, ratings2_common)\n",
    "    \n",
    "    # 计算类别相似度：使用Jaccard相似度\n",
    "    genres1 = movie_genres.get(movie1, set())\n",
    "    genres2 = movie_genres.get(movie2, set())\n",
    "    genre_similarity = len(genres1.intersection(genres2)) / len(genres1.union(genres2)) if len(genres1.union(genres2)) > 0 else 0\n",
    "    \n",
    "    # 综合考虑共同评分用户的数量和类别相似度\n",
    "    weight = len(common_users) / (len(common_users) + 1)\n",
    "    total_similarity = similarity * genre_similarity * weight\n",
    "    \n",
    "    return total_similarity"
   ]
  },
  {
   "cell_type": "code",
   "execution_count": 26,
   "metadata": {},
   "outputs": [],
   "source": [
    "# 随机选择电影\n",
    "random_movies = random.sample(list(movie_to_users.keys()), 1000)"
   ]
  },
  {
   "cell_type": "code",
   "execution_count": null,
   "metadata": {},
   "outputs": [
    {
     "name": "stderr",
     "output_type": "stream",
     "text": [
      "Calculating movie similarities: 100%|██████████| 1000/1000 [00:02<00:00, 428.62it/s]\n"
     ]
    }
   ],
   "source": [
    "# 创建图\n",
    "G_movies = nx.Graph()\n",
    "\n",
    "# 计算电影之间的相似度并添加到图中\n",
    "for i, movie1 in tqdm(enumerate(random_movies), total=len(random_movies), desc=\"Calculating movie similarities\"):\n",
    "    for movie2 in random_movies[i+1:]:\n",
    "        similarity = calculate_movie_similarity(movie1, movie2)\n",
    "        if similarity > 0:\n",
    "            G_movies.add_edge(movie1, movie2, weight=similarity)"
   ]
  },
  {
   "cell_type": "code",
   "execution_count": 28,
   "metadata": {},
   "outputs": [
    {
     "name": "stdout",
     "output_type": "stream",
     "text": [
      "Edges saved to vis-data/movie_graph_with_similarities.csv\n"
     ]
    }
   ],
   "source": [
    "# 保存电影边信息到 graph_with_movie_similarities.csv\n",
    "edges_output_file = 'vis-data/movie_graph_with_similarities.csv'\n",
    "with open(edges_output_file, 'w', newline='', encoding='utf-8') as csvfile:\n",
    "    writer = csv.writer(csvfile)\n",
    "    writer.writerow(['source', 'target', 'type', 'weight'])\n",
    "    \n",
    "    for source, target, data in G_movies.edges(data=True):  # 遍历图中的边\n",
    "        weight = data.get('weight', 1)  # 获取边的权重\n",
    "        writer.writerow([source, target, 'undirected', weight])  # 假设边为无向边\n",
    "\n",
    "print(f\"Edges saved to {edges_output_file}\")"
   ]
  },
  {
   "cell_type": "code",
   "execution_count": 29,
   "metadata": {},
   "outputs": [
    {
     "name": "stdout",
     "output_type": "stream",
     "text": [
      "Nodes saved to vis-data/nodes_with_categories.csv\n"
     ]
    }
   ],
   "source": [
    "# 保存电影节点信息到 nodes_with_categories.csv\n",
    "nodes_output_file = 'vis-data/nodes_with_categories.csv'\n",
    "with open(nodes_output_file, 'w', newline='', encoding='utf-8') as csvfile:\n",
    "    writer = csv.writer(csvfile)\n",
    "    writer.writerow(['id', 'label'])\n",
    "    \n",
    "    for movie in random_movies:  # 只保存随机选择的电影\n",
    "        label = movie  # label 与 id 相同\n",
    "        # category = movie_genres.get(movie, set())  # 获取电影的类别信息\n",
    "        writer.writerow([movie, label])\n",
    "\n",
    "print(f\"Nodes saved to {nodes_output_file}\")"
   ]
  }
 ],
 "metadata": {
  "kernelspec": {
   "display_name": "dbenv",
   "language": "python",
   "name": "python3"
  },
  "language_info": {
   "codemirror_mode": {
    "name": "ipython",
    "version": 3
   },
   "file_extension": ".py",
   "mimetype": "text/x-python",
   "name": "python",
   "nbconvert_exporter": "python",
   "pygments_lexer": "ipython3",
   "version": "3.9.18"
  }
 },
 "nbformat": 4,
 "nbformat_minor": 2
}
