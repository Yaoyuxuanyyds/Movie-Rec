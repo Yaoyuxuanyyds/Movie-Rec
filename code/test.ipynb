{
 "cells": [
  {
   "cell_type": "code",
   "execution_count": null,
   "metadata": {},
   "outputs": [],
   "source": [
    "import numpy as np\n",
    "import pandas as pd\n",
    "import pickle"
   ]
  },
  {
   "cell_type": "code",
   "execution_count": 3,
   "metadata": {},
   "outputs": [],
   "source": [
    "def find_similar_movies(items_emb_final, movie_index, top_k=10):\n",
    "    # 获取目标电影的嵌入\n",
    "    target_emb = items_emb_final[movie_index]  # shape: (embedding_dim,)\n",
    "    \n",
    "    # 计算余弦相似度\n",
    "    norm_items_emb = items_emb_final / np.linalg.norm(items_emb_final, axis=1, keepdims=True)  # 单位化每个电影的嵌入\n",
    "    norm_target_emb = target_emb / np.linalg.norm(target_emb)  # 单位化目标电影的嵌入\n",
    "    similarities = np.dot(norm_items_emb, norm_target_emb)  # shape: (num_movies,)\n",
    "    \n",
    "    # 排除目标电影本身\n",
    "    similarities[movie_index] = -1.0  # 设置自身的相似度为 -1，避免被选中\n",
    "    \n",
    "    # 获取 Top-K 相似电影\n",
    "    topk_indices = np.argsort(similarities)[-top_k:][::-1]  # 从大到小排序并取前K个索引\n",
    "    \n",
    "    return topk_indices.tolist()"
   ]
  },
  {
   "cell_type": "code",
   "execution_count": 5,
   "metadata": {},
   "outputs": [
    {
     "name": "stdout",
     "output_type": "stream",
     "text": [
      "Embeddings and maps loaded successfully.\n",
      "Similar movies to 'American President, The (1995)':\n",
      "[\"Mr. Holland's Opus (1995)\", 'French Kiss (1995)', 'While You Were Sleeping (1995)', 'Four Weddings and a Funeral (1994)', 'Dave (1993)', 'Sleepless in Seattle (1993)', 'Witness (1985)', \"You've Got Mail (1998)\", 'League of Their Own, A (1992)', 'Erin Brockovich (2000)']\n"
     ]
    }
   ],
   "source": [
    "# 加载时使用以下代码\n",
    "# 加载 embeddings\n",
    "dataset = 'ml-25m-reduced'\n",
    "users_embeddings_file = './save/'+dataset+'/users_embeddings.npy'\n",
    "items_embeddings_file = './save/'+dataset+'/items_embeddings.npy'\n",
    "maps_file = './save/'+dataset+'/dataset_maps.pkl'\n",
    "users_embeddings = np.load(users_embeddings_file)\n",
    "items_embeddings = np.load(items_embeddings_file)\n",
    "\n",
    "# 加载 maps\n",
    "with open(maps_file, 'rb') as f:\n",
    "    loaded_maps = pickle.load(f)\n",
    "\n",
    "movie_map = loaded_maps['movie_map']\n",
    "user_map = loaded_maps['user_map']\n",
    "\n",
    "print(\"Embeddings and maps loaded successfully.\")\n",
    "\n",
    "# 为指定电影推荐相似电影\n",
    "movies_df = pd.read_csv(\"../data/\"+dataset+\"/movies.csv\")\n",
    "movie_index  = 10\n",
    "similar_indices = find_similar_movies(items_embeddings, movie_index, top_k=10)\n",
    "\n",
    "movie_mapping_inverse = {v: k for k, v in movie_map.items()}\n",
    "target_movie_name = movies_df[movies_df['movieId'] == movie_mapping_inverse[movie_index]]['title'].values[0]\n",
    "similar_ids = [movie_mapping_inverse[indice] for indice in similar_indices]\n",
    "filtered_df = movies_df[movies_df['movieId'].isin(similar_ids)]\n",
    "similar_movie_names = filtered_df['title'].tolist()\n",
    "\n",
    "print(f\"Similar movies to '{target_movie_name}':\")\n",
    "print(similar_movie_names)\n"
   ]
  }
 ],
 "metadata": {
  "kernelspec": {
   "display_name": "GCN",
   "language": "python",
   "name": "python3"
  },
  "language_info": {
   "codemirror_mode": {
    "name": "ipython",
    "version": 3
   },
   "file_extension": ".py",
   "mimetype": "text/x-python",
   "name": "python",
   "nbconvert_exporter": "python",
   "pygments_lexer": "ipython3",
   "version": "3.7.12"
  }
 },
 "nbformat": 4,
 "nbformat_minor": 2
}
